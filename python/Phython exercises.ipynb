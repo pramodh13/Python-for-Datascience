{
 "cells": [
  {
   "cell_type": "code",
   "execution_count": 10,
   "metadata": {},
   "outputs": [
    {
     "name": "stdout",
     "output_type": "stream",
     "text": [
      "2002,2009,2016,2023,2037,2044,2051,2058,2072,2079,2086,2093,2107,2114,2121,2128,2142,2149,2156,2163,2177,2184,2191,2198,2212,2219,2226,2233,2247,2254,2261,2268,2282,2289,2296,2303,2317,2324,2331,2338,2352,2359,2366,2373,2387,2394,2401,2408,2422,2429,2436,2443,2457,2464,2471,2478,2492,2499,2506,2513,2527,2534,2541,2548,2562,2569,2576,2583,2597,2604,2611,2618,2632,2639,2646,2653,2667,2674,2681,2688,2702,2709,2716,2723,2737,2744,2751,2758,2772,2779,2786,2793,2807,2814,2821,2828,2842,2849,2856,2863,2877,2884,2891,2898,2912,2919,2926,2933,2947,2954,2961,2968,2982,2989,2996,3003,3017,3024,3031,3038,3052,3059,3066,3073,3087,3094,3101,3108,3122,3129,3136,3143,3157,3164,3171,3178,3192,3199\n"
     ]
    }
   ],
   "source": [
    "#Nos divisible by 7 but not by 5\n",
    "required=[]\n",
    "for i in range(2000,3201):\n",
    "    if i%7==0 and i%5!=0:\n",
    "        required.append(str(i)) #converting to strings to print in single line.\n",
    "print(','.join(required))"
   ]
  },
  {
   "cell_type": "code",
   "execution_count": 27,
   "metadata": {},
   "outputs": [
    {
     "name": "stdout",
     "output_type": "stream",
     "text": [
      "Enter a number to find factorial8\n",
      "The factorial of 8 \t is 40320\n"
     ]
    }
   ],
   "source": [
    "#Finding factorial\n",
    "f= int(input(\"Enter a number to find factorial\"))\n",
    "fact=1\n",
    "for i in range(1,(f+1)):\n",
    "    fact=fact*(i)\n",
    "print (f\"The factorial of {f} \\t is {fact}\")\n",
    "    "
   ]
  },
  {
   "cell_type": "code",
   "execution_count": 36,
   "metadata": {},
   "outputs": [
    {
     "name": "stdout",
     "output_type": "stream",
     "text": [
      "Enter a number to generate dictionary pattern15\n",
      "{1: 1, 2: 4, 3: 9, 4: 16, 5: 25, 6: 36, 7: 49, 8: 64, 9: 81, 10: 100, 11: 121, 12: 144, 13: 169, 14: 196, 15: 225}\n"
     ]
    }
   ],
   "source": [
    "#print in {i:i*2} format for n nos.\n",
    "f= int(input(\"Enter a number to generate dictionary pattern\"))\n",
    "d={}\n",
    "for i in range(1,(f+1)):\n",
    "    d[i]=i*i\n",
    "\n",
    "print(d)"
   ]
  },
  {
   "cell_type": "code",
   "execution_count": 40,
   "metadata": {},
   "outputs": [
    {
     "name": "stdout",
     "output_type": "stream",
     "text": [
      "Enter a seqence of nos with comma seperted5,8,7\n",
      "['5', '8', '7']\n",
      "('5', '8', '7')\n"
     ]
    }
   ],
   "source": [
    "f= input(\"Enter a seqence of nos with comma seperted\")\n",
    "l=f.split(\",\")\n",
    "t=tuple(l)\n",
    "\n",
    "print(l)\n",
    "print(t)"
   ]
  },
  {
   "cell_type": "code",
   "execution_count": 48,
   "metadata": {},
   "outputs": [
    {
     "name": "stdout",
     "output_type": "stream",
     "text": [
      "5,89,66\n",
      "4,17,15\n"
     ]
    }
   ],
   "source": [
    "import math\n",
    "\n",
    "result=[]\n",
    "values=[i for i in input().split(\",\")]\n",
    "c=50\n",
    "h=30\n",
    "for x in values:\n",
    "    result.append(str(round(math.sqrt((2*c*float(x))/h))))\n",
    "\n",
    "print(\",\".join(result))"
   ]
  },
  {
   "cell_type": "code",
   "execution_count": 58,
   "metadata": {},
   "outputs": [
    {
     "name": "stdout",
     "output_type": "stream",
     "text": [
      "Enter rows,columns5,5\n",
      "[[0, 0, 0, 0, 0], [0, 1, 2, 3, 4], [0, 2, 4, 6, 8], [0, 3, 6, 9, 12], [0, 4, 8, 12, 16]]\n"
     ]
    }
   ],
   "source": [
    "a=input(\"Enter rows,columns\").split(\",\")\n",
    "x,y=tuple(a)\n",
    "x=int(x)\n",
    "y=int(y)\n",
    "multilist=[[0 for col in range(y)]for row in range(x)]\n",
    "for i in range(x):\n",
    "    for j in range(y):\n",
    "        multilist[i][j]=i*j\n",
    "\n",
    "print(multilist)"
   ]
  },
  {
   "cell_type": "code",
   "execution_count": 66,
   "metadata": {},
   "outputs": [
    {
     "name": "stdout",
     "output_type": "stream",
     "text": [
      "Enter list of words to sort \tanda,delta,beta\n",
      "anda,beta,delta\n"
     ]
    }
   ],
   "source": [
    "bag_words=input(\"Enter list of words to sort \\t\").split(\",\")\n",
    "bag_words.sort()\n",
    "print(\",\".join(bag_words))\n",
    "#print(bag_words.sort())"
   ]
  },
  {
   "cell_type": "code",
   "execution_count": 78,
   "metadata": {},
   "outputs": [
    {
     "name": "stdout",
     "output_type": "stream",
     "text": [
      "Enter a sentence to organize \tab ab hi hi Hi bc\n",
      "Hi ab bc hi\n"
     ]
    }
   ],
   "source": [
    "bag=input(\"Enter a sentence to organize \\t\").split(\" \")\n",
    "#bag.upper()\n",
    "#bag.sort()\n",
    "bag=set(bag)\n",
    "print(\" \".join(sorted(list(bag))))"
   ]
  },
  {
   "cell_type": "code",
   "execution_count": 118,
   "metadata": {},
   "outputs": [
    {
     "name": "stdout",
     "output_type": "stream",
     "text": [
      "2000,2002,2004,2006,2008,2020,2022,2024,2026,2028,2040,2042,2044,2046,2048,2060,2062,2064,2066,2068,2080,2082,2084,2086,2088,2200,2202,2204,2206,2208,2220,2222,2224,2226,2228,2240,2242,2244,2246,2248,2260,2262,2264,2266,2268,2280,2282,2284,2286,2288,2400,2402,2404,2406,2408,2420,2422,2424,2426,2428,2440,2442,2444,2446,2448,2460,2462,2464,2466,2468,2480,2482,2484,2486,2488,2600,2602,2604,2606,2608,2620,2622,2624,2626,2628,2640,2642,2644,2646,2648,2660,2662,2664,2666,2668,2680,2682,2684,2686,2688,2800,2802,2804,2806,2808,2820,2822,2824,2826,2828,2840,2842,2844,2846,2848,2860,2862,2864,2866,2868,2880,2882,2884,2886,2888\n"
     ]
    }
   ],
   "source": [
    "#All nos is even between 1000 and 3000\n",
    "values=[]\n",
    "for num in range(1000,3001):\n",
    "    if num%2==0:\n",
    "        s=str(num)\n",
    "        if int(s[0])%2==0 and int(s[1])%2==0 and int(s[2])%2==0 and int(s[3])%2==0:\n",
    "            values.append(s)\n",
    "print(\",\".join(values))"
   ]
  },
  {
   "cell_type": "code",
   "execution_count": 126,
   "metadata": {},
   "outputs": [
    {
     "name": "stdout",
     "output_type": "stream",
     "text": [
      "hisds 242 ods dkjse2032 ee90u40 ewde\n",
      "In this sentence we have 11 digits and 20 letters\n"
     ]
    }
   ],
   "source": [
    "#Count no of letters and digits in sentence\n",
    "s= input()\n",
    "d={\"Digits\":0, \"Letters\":0}\n",
    "for i in s:\n",
    "    if i.isdigit():\n",
    "        d[\"Digits\"]+=1\n",
    "    elif i.isalpha():\n",
    "        d[\"Letters\"]+=1\n",
    "    else:\n",
    "        pass\n",
    "print(f'In this sentence we have {d[\"Digits\"]} digits and {d[\"Letters\"]} letters')"
   ]
  },
  {
   "cell_type": "code",
   "execution_count": 128,
   "metadata": {},
   "outputs": [
    {
     "name": "stdout",
     "output_type": "stream",
     "text": [
      "Hello world!\n",
      "In this sentence we have 1 uppercase letters and 9 lower case letters\n"
     ]
    }
   ],
   "source": [
    "#Count no of upper and lower case in sentence\n",
    "s= input()\n",
    "d={\"Upper case\":0, \"Lower case\":0}\n",
    "for i in s:\n",
    "    if i.isupper():\n",
    "        d[\"Upper case\"]+=1\n",
    "    elif i.islower():\n",
    "        d[\"Lower case\"]+=1\n",
    "    else:\n",
    "        pass\n",
    "print(f'In this sentence we have {d[\"Upper case\"]} uppercase letters and {d[\"Lower case\"]} lower case letters')"
   ]
  },
  {
   "cell_type": "code",
   "execution_count": 130,
   "metadata": {},
   "outputs": [
    {
     "name": "stdout",
     "output_type": "stream",
     "text": [
      "9\n"
     ]
    },
    {
     "data": {
      "text/plain": [
       "11106"
      ]
     },
     "execution_count": 130,
     "metadata": {},
     "output_type": "execute_result"
    }
   ],
   "source": [
    "s=input()\n",
    "n1=s\n",
    "n2=s+s\n",
    "n3=s+s+s\n",
    "n4=s+s+s+s\n",
    "result= int(n1)+int(n2)+int(n3)+int(n4)\n",
    "result"
   ]
  },
  {
   "cell_type": "code",
   "execution_count": 2,
   "metadata": {},
   "outputs": [
    {
     "name": "stdout",
     "output_type": "stream",
     "text": [
      "3,2,3,4\n",
      "9,9\n"
     ]
    }
   ],
   "source": [
    "#Filter list of odd nos and diplay squares of it\n",
    "s= input().split(\",\")\n",
    "result=[pow(int(i),2) for i in s if int(i)%2 !=0]\n",
    "print(\",\".join(str(final) for final in result))"
   ]
  },
  {
   "cell_type": "code",
   "execution_count": 1,
   "metadata": {},
   "outputs": [
    {
     "name": "stdout",
     "output_type": "stream",
     "text": [
      "D 300 W 200 \n",
      "The final balance in your account is 100\n"
     ]
    }
   ],
   "source": [
    "#To calculate net balance from transactions\n",
    "#from IPython.core.debugger import set_trace\n",
    "\n",
    "D=0\n",
    "W=0\n",
    "transaction= input().split(\" \")\n",
    "for i in range(0,len(transaction)):\n",
    "    if transaction[i]==\"D\" or transaction[i]==\"d\":\n",
    "        D+=int(transaction[i+1])\n",
    "    elif transaction[i]==\"W\" or transaction[i]==\"w\":\n",
    "        W+=int(transaction[i+1])\n",
    "    else:\n",
    "        pass\n",
    "    \n",
    "print(f'The final balance in your account is {D-W}')\n",
    "    "
   ]
  },
  {
   "cell_type": "code",
   "execution_count": 4,
   "metadata": {},
   "outputs": [
    {
     "name": "stdout",
     "output_type": "stream",
     "text": [
      "Enter passwords to test seperated by , \tPramodh556$,abD, 234\n",
      "Pramodh556$\n"
     ]
    }
   ],
   "source": [
    "import re\n",
    "Approved_Passwords=[]\n",
    "passwords=input(\"Enter passwords to test seperated by , \\t\").split(\",\")\n",
    "for i in passwords:\n",
    "    if len(i)<6 and len(i)>12:\n",
    "        continue\n",
    "    else:\n",
    "        pass\n",
    "\n",
    "    if not re.search(\"[a-z]\",i):\n",
    "        continue\n",
    "    elif not re.search(\"[A-Z]\",i):\n",
    "        continue\n",
    "    elif not re.search(\"[$#@]\",i):\n",
    "        continue\n",
    "    else:\n",
    "        pass\n",
    "    Approved_Passwords.append(i)\n",
    "print(\",\".join(Approved_Passwords))\n",
    "            "
   ]
  },
  {
   "cell_type": "code",
   "execution_count": 26,
   "metadata": {},
   "outputs": [
    {
     "name": "stdout",
     "output_type": "stream",
     "text": [
      "Enter details with space inbetween, \tBob,21,100\n",
      "Enter details with space inbetween, \tA,200,400\n",
      "Enter details with space inbetween, \t\n",
      "[('A', '200', '400'), ('Bob', '21', '100')]\n"
     ]
    }
   ],
   "source": [
    "from operator import itemgetter,attrgetter\n",
    "l=[]\n",
    "while True:\n",
    "    s=input(\"Enter details with space inbetween, \\t\")\n",
    "    if not s:\n",
    "        break\n",
    "    l.append(tuple(s.split(\",\")))\n",
    "\n",
    "print(sorted(l,key=itemgetter(0,1,2)))"
   ]
  },
  {
   "cell_type": "code",
   "execution_count": 39,
   "metadata": {},
   "outputs": [
    {
     "name": "stdout",
     "output_type": "stream",
     "text": [
      "0\n",
      "7\n"
     ]
    }
   ],
   "source": [
    "#n=int(input(\"Enter a value of n as int\"))\n",
    "def my_generator(n):\n",
    "    i=0\n",
    "    while i<n:\n",
    "        j=i\n",
    "        i=i+1\n",
    "        if j%7==0:\n",
    "            yield j\n",
    "            \n",
    "\n",
    "for i in my_generator(10):\n",
    "    print(i)\n"
   ]
  },
  {
   "cell_type": "code",
   "execution_count": 47,
   "metadata": {},
   "outputs": [
    {
     "name": "stdout",
     "output_type": "stream",
     "text": [
      "Hi i is s\n"
     ]
    },
    {
     "data": {
      "text/plain": [
       "dict_keys"
      ]
     },
     "execution_count": 47,
     "metadata": {},
     "output_type": "execute_result"
    }
   ],
   "source": [
    "freq={}\n",
    "words=input().split(\" \")\n",
    "for word in words:\n",
    "    freq[word]=freq.get(word,0)+1\n",
    "\n",
    "freq.keys()\n",
    "# my_list=freq.keys()\n",
    "# my_list\n",
    "#my_list.sort()\n",
    "\n",
    "# for w in my_list:\n",
    "#     print(f'{w}:{freq[w]}')"
   ]
  },
  {
   "cell_type": "code",
   "execution_count": 48,
   "metadata": {},
   "outputs": [
    {
     "data": {
      "text/plain": [
       "2"
      ]
     },
     "execution_count": 48,
     "metadata": {},
     "output_type": "execute_result"
    }
   ],
   "source": [
    "\"Hi i am Hi\".count(\"Hi\")"
   ]
  },
  {
   "cell_type": "code",
   "execution_count": 58,
   "metadata": {},
   "outputs": [
    {
     "name": "stdout",
     "output_type": "stream",
     "text": [
      "[625, 225]\n"
     ]
    }
   ],
   "source": [
    "square=lambda a:a**2\n",
    "a=map(square,[25,15])\n",
    "print(list(a))"
   ]
  },
  {
   "cell_type": "code",
   "execution_count": 59,
   "metadata": {},
   "outputs": [
    {
     "name": "stdout",
     "output_type": "stream",
     "text": [
      "map(func, *iterables) --> map object\n",
      "\n",
      "Make an iterator that computes the function using arguments from\n",
      "each of the iterables.  Stops when the shortest iterable is exhausted.\n"
     ]
    }
   ],
   "source": [
    "print(map.__doc__)"
   ]
  },
  {
   "cell_type": "code",
   "execution_count": 60,
   "metadata": {},
   "outputs": [
    {
     "name": "stdout",
     "output_type": "stream",
     "text": [
      "Person name is Jeffrey\n",
      "Person name is Nico\n"
     ]
    }
   ],
   "source": [
    "class Person:\n",
    "    # Define the class parameter \"name\"\n",
    "    name = \"Person\"\n",
    "    def __init__(self, name = None):\n",
    "        # self.name is the instance parameter\n",
    "        self.name = name\n",
    "\n",
    "jeffrey = Person(\"Jeffrey\")\n",
    "print(\"%s name is %s\" % (Person.name, jeffrey.name))\n",
    "\n",
    "nico = Person()\n",
    "nico.name = \"Nico\"\n",
    "print(\"%s name is %s\" % (Person.name, nico.name))"
   ]
  },
  {
   "cell_type": "code",
   "execution_count": 64,
   "metadata": {},
   "outputs": [
    {
     "data": {
      "text/plain": [
       "5"
      ]
     },
     "execution_count": 64,
     "metadata": {},
     "output_type": "execute_result"
    }
   ],
   "source": [
    "add=lambda a,b:a+b\n",
    "add(2,3)"
   ]
  },
  {
   "cell_type": "code",
   "execution_count": 66,
   "metadata": {},
   "outputs": [
    {
     "name": "stdout",
     "output_type": "stream",
     "text": [
      "{1: 1, 2: 4, 3: 9}\n"
     ]
    }
   ],
   "source": [
    "final={}\n",
    "def my_dict():\n",
    "    for i in range(1,4):\n",
    "        final[i]=i**2\n",
    "    print(final)\n",
    "my_dict()"
   ]
  },
  {
   "cell_type": "code",
   "execution_count": 74,
   "metadata": {},
   "outputs": [
    {
     "name": "stdout",
     "output_type": "stream",
     "text": [
      "(1, 4, 9, 16, 25, 36, 49, 64, 81, 100)\n"
     ]
    }
   ],
   "source": [
    "#Use map func\n",
    "li=[1,2,3,4,5,6,7,8,9,10]\n",
    "square=map(lambda x:x**2,li)\n",
    "print(tuple(square))"
   ]
  },
  {
   "cell_type": "code",
   "execution_count": 75,
   "metadata": {},
   "outputs": [
    {
     "name": "stdout",
     "output_type": "stream",
     "text": [
      "(4, 16, 36, 64, 100)\n"
     ]
    }
   ],
   "source": [
    "#Use map and filter func\n",
    "li=[1,2,3,4,5,6,7,8,9,10]\n",
    "even=filter(lambda x:x%2==0,li)\n",
    "square=map(lambda x:x**2,even)\n",
    "print(tuple(square))"
   ]
  },
  {
   "cell_type": "code",
   "execution_count": 78,
   "metadata": {},
   "outputs": [
    {
     "name": "stdout",
     "output_type": "stream",
     "text": [
      "America\n",
      "America\n"
     ]
    }
   ],
   "source": [
    "class American(object):\n",
    "    @staticmethod\n",
    "    def printNationality():\n",
    "        print(\"America\")\n",
    "\n",
    "an=American()\n",
    "an.printNationality()\n",
    "American.printNationality()"
   ]
  },
  {
   "cell_type": "code",
   "execution_count": 82,
   "metadata": {},
   "outputs": [
    {
     "name": "stdout",
     "output_type": "stream",
     "text": [
      "division by zero!\n",
      "In finally block for cleanup\n"
     ]
    }
   ],
   "source": [
    "def throws():\n",
    "    return 5/0\n",
    "\n",
    "try:\n",
    "    throws()\n",
    "except ZeroDivisionError:\n",
    "    print(\"division by zero!\")\n",
    "except Exception:\n",
    "    print('Caught an exception')\n",
    "finally:\n",
    "    print('In finally block for cleanup')"
   ]
  },
  {
   "cell_type": "code",
   "execution_count": 83,
   "metadata": {},
   "outputs": [
    {
     "name": "stdout",
     "output_type": "stream",
     "text": [
      "k.pramodh02@gmail.com\n",
      "Username is k.pramodh02\n"
     ]
    }
   ],
   "source": [
    "#Take user name from email id\n",
    "name=input().split(\"@\")\n",
    "print(f'Username is {name[0]}')"
   ]
  },
  {
   "cell_type": "code",
   "execution_count": 91,
   "metadata": {},
   "outputs": [
    {
     "name": "stdout",
     "output_type": "stream",
     "text": [
      "pramodj@fska.com\n",
      "<re.Match object; span=(0, 16), match='pramodj@fska.com'>\n",
      "pramodj\n"
     ]
    }
   ],
   "source": [
    "import re\n",
    "emailAddress = input()\n",
    "pat2 = \"(\\w+)@((\\w+\\.)+(com))\"\n",
    "r2 = re.match(pat2,emailAddress)\n",
    "print(r2)\n",
    "print(r2.group(1))"
   ]
  },
  {
   "cell_type": "code",
   "execution_count": 101,
   "metadata": {},
   "outputs": [
    {
     "name": "stdout",
     "output_type": "stream",
     "text": [
      "Enter a number1000\n",
      "Result is 993.5135301384514\n"
     ]
    }
   ],
   "source": [
    "# Calculate 1+1/2+2/3+n/n+1..\n",
    "n=int(input(\"Enter a number\"))\n",
    "final=0.0\n",
    "for i in range(1,n+1):\n",
    "    result=float((i/(i+1)))\n",
    "    final+=result\n",
    "print(f'Result is {final}')"
   ]
  },
  {
   "cell_type": "code",
   "execution_count": 103,
   "metadata": {},
   "outputs": [
    {
     "name": "stdout",
     "output_type": "stream",
     "text": [
      "5\n",
      "501\n"
     ]
    }
   ],
   "source": [
    "#Recursive fn\n",
    "def f(n):\n",
    "    if n==0:\n",
    "        return 1\n",
    "    else:\n",
    "        return f(n-1)+100\n",
    "n=int(input())\n",
    "print(f(n))"
   ]
  },
  {
   "cell_type": "code",
   "execution_count": 105,
   "metadata": {},
   "outputs": [
    {
     "name": "stdout",
     "output_type": "stream",
     "text": [
      "10\n",
      "0,1,1,2,3,5,8,13,21,34,55\n"
     ]
    }
   ],
   "source": [
    "#Recursive fn-->Fibonacci series\n",
    "def f(n):\n",
    "    if n==0:\n",
    "        return 0\n",
    "    elif n==1:\n",
    "        return 1\n",
    "    else:\n",
    "        return f(n-1)+f(n-2)\n",
    "n=int(input())\n",
    "values= [str(f(i)) for i in range(0,n+1)]\n",
    "print(\",\".join(values))"
   ]
  },
  {
   "cell_type": "code",
   "execution_count": 117,
   "metadata": {},
   "outputs": [],
   "source": [
    "li = [2,4,6,8,12]\n",
    "for i in li:\n",
    "    assert i%2==0"
   ]
  },
  {
   "cell_type": "code",
   "execution_count": 123,
   "metadata": {},
   "outputs": [
    {
     "data": {
      "text/plain": [
       "38"
      ]
     },
     "execution_count": 123,
     "metadata": {},
     "output_type": "execute_result"
    }
   ],
   "source": [
    "eval(\"35+3\")"
   ]
  },
  {
   "cell_type": "code",
   "execution_count": 125,
   "metadata": {},
   "outputs": [
    {
     "name": "stdout",
     "output_type": "stream",
     "text": [
      "-1\n"
     ]
    }
   ],
   "source": [
    "import math\n",
    "def binarysearch(li,element):\n",
    "    l=0\n",
    "    u=len(li)-1\n",
    "    index=-1\n",
    "    while u>=l and index==-1:\n",
    "        mid=int(math.floor((l+u)/2.0))\n",
    "        if li[mid]==element:\n",
    "            index=mid\n",
    "        elif li[mid]> element:\n",
    "            u=mid-1\n",
    "        else:\n",
    "            l=mid+1\n",
    "    return index\n",
    "li=[5,8,3,4,6,122,8,49,300]\n",
    "print(binarysearch(li,4))"
   ]
  },
  {
   "cell_type": "code",
   "execution_count": 143,
   "metadata": {},
   "outputs": [
    {
     "name": "stdout",
     "output_type": "stream",
     "text": [
      "198\n"
     ]
    }
   ],
   "source": [
    "import random\n",
    "print(random.choice([i for i in range(100,201) if i%2==0]))"
   ]
  },
  {
   "cell_type": "code",
   "execution_count": 142,
   "metadata": {},
   "outputs": [
    {
     "name": "stdout",
     "output_type": "stream",
     "text": [
      "[0, 2, 3, 39, 67]\n"
     ]
    }
   ],
   "source": [
    "import random\n",
    "print(sorted(random.sample(range(100),5)))"
   ]
  },
  {
   "cell_type": "code",
   "execution_count": 144,
   "metadata": {},
   "outputs": [
    {
     "name": "stdout",
     "output_type": "stream",
     "text": [
      "[102, 130, 134, 152, 196]\n"
     ]
    }
   ],
   "source": [
    "import random\n",
    "print(sorted(random.sample([i for i in range(100,201) if i%2==0],5)))"
   ]
  },
  {
   "cell_type": "code",
   "execution_count": 145,
   "metadata": {},
   "outputs": [
    {
     "name": "stdout",
     "output_type": "stream",
     "text": [
      "b'x\\x9c\\xcbH\\xcd\\xc9\\xc9W(\\xcf/\\xcaIQ\\xcc \\x82\\r\\x00\\xbd[\\x11\\xf5'\n",
      "b'hello world!hello world!hello world!hello world!'\n"
     ]
    }
   ],
   "source": [
    "import zlib\n",
    "s = b'hello world!hello world!hello world!hello world!'\n",
    "t = zlib.compress(s)\n",
    "print(t)\n",
    "print(zlib.decompress(t))"
   ]
  },
  {
   "cell_type": "code",
   "execution_count": 146,
   "metadata": {},
   "outputs": [
    {
     "name": "stdout",
     "output_type": "stream",
     "text": [
      "1.6326016999955755\n"
     ]
    }
   ],
   "source": [
    "from timeit import Timer\n",
    "t = Timer(\"for i in range(100):1+1\")\n",
    "print(t.timeit())"
   ]
  },
  {
   "cell_type": "code",
   "execution_count": 153,
   "metadata": {},
   "outputs": [
    {
     "name": "stdout",
     "output_type": "stream",
     "text": [
      "I Play Hockey\n",
      "I Play Cricket\n",
      "I Love Hockey\n",
      "I Love Cricket\n",
      "You Play Hockey\n",
      "You Play Cricket\n",
      "You Love Hockey\n",
      "You Love Cricket\n"
     ]
    }
   ],
   "source": [
    "one=[\"I\",\"You\"]\n",
    "two=[\"Play\",\"Love\"]\n",
    "three=[\"Hockey\",\"Cricket\"]\n",
    "\n",
    "for i in one:\n",
    "    for j in two:\n",
    "        for k in three:\n",
    "            #print(f'{one[i]}+{two[j]}+{three[k]}')\n",
    "            print(f'{i} {j} {k}')"
   ]
  },
  {
   "cell_type": "code",
   "execution_count": 150,
   "metadata": {},
   "outputs": [
    {
     "name": "stdout",
     "output_type": "stream",
     "text": [
      "I  you\n"
     ]
    }
   ],
   "source": [
    "print(\"I\"+ \"  \" +\"you\")"
   ]
  },
  {
   "cell_type": "code",
   "execution_count": 155,
   "metadata": {},
   "outputs": [
    {
     "data": {
      "text/plain": [
       "[5, 77, 45]"
      ]
     },
     "execution_count": 155,
     "metadata": {},
     "output_type": "execute_result"
    }
   ],
   "source": [
    "li=[5,6,77,45,22,12,24]\n",
    "odd_li=[i for i in li if i%2!=0]\n",
    "odd_li"
   ]
  },
  {
   "cell_type": "code",
   "execution_count": 163,
   "metadata": {},
   "outputs": [
    {
     "name": "stdout",
     "output_type": "stream",
     "text": [
      "[24, 70, 120]\n"
     ]
    }
   ],
   "source": [
    "li=[12,24,35,70,88,120,155]\n",
    "filered=[x for (i,x) in enumerate(li) if i%2!=0]\n",
    "print(filered)"
   ]
  },
  {
   "cell_type": "code",
   "execution_count": 172,
   "metadata": {},
   "outputs": [
    {
     "data": {
      "text/plain": [
       "[[[0, 0, 0, 0, 0, 0, 0, 0],\n",
       "  [0, 0, 0, 0, 0, 0, 0, 0],\n",
       "  [0, 0, 0, 0, 0, 0, 0, 0],\n",
       "  [0, 0, 0, 0, 0, 0, 0, 0],\n",
       "  [0, 0, 0, 0, 0, 0, 0, 0]],\n",
       " [[0, 0, 0, 0, 0, 0, 0, 0],\n",
       "  [0, 0, 0, 0, 0, 0, 0, 0],\n",
       "  [0, 0, 0, 0, 0, 0, 0, 0],\n",
       "  [0, 0, 0, 0, 0, 0, 0, 0],\n",
       "  [0, 0, 0, 0, 0, 0, 0, 0]],\n",
       " [[0, 0, 0, 0, 0, 0, 0, 0],\n",
       "  [0, 0, 0, 0, 0, 0, 0, 0],\n",
       "  [0, 0, 0, 0, 0, 0, 0, 0],\n",
       "  [0, 0, 0, 0, 0, 0, 0, 0],\n",
       "  [0, 0, 0, 0, 0, 0, 0, 0]]]"
      ]
     },
     "execution_count": 172,
     "metadata": {},
     "output_type": "execute_result"
    }
   ],
   "source": [
    "array=[[[0 for col in range(8)] for col in range(5)]for row in range(3)]\n",
    "#array[1]=5\n",
    "array"
   ]
  },
  {
   "cell_type": "code",
   "execution_count": 175,
   "metadata": {},
   "outputs": [
    {
     "name": "stdout",
     "output_type": "stream",
     "text": [
      "[35, 70, 88, 120, 155]\n"
     ]
    }
   ],
   "source": [
    "li = [12,24,35,70,88,120,155]\n",
    "li = [x for (i,x) in enumerate(li) if x not in (24,12)]\n",
    "print(li)"
   ]
  },
  {
   "cell_type": "code",
   "execution_count": 176,
   "metadata": {},
   "outputs": [
    {
     "name": "stdout",
     "output_type": "stream",
     "text": [
      "[35]\n"
     ]
    }
   ],
   "source": [
    "#Intersection of 2 lists\n",
    "set1=set([1,3,6,78,35,55])\n",
    "set2=set([12,24,35,24,88,120,155])\n",
    "set1 &= set2\n",
    "li=list(set1)\n",
    "print(li)"
   ]
  },
  {
   "cell_type": "code",
   "execution_count": 177,
   "metadata": {},
   "outputs": [
    {
     "data": {
      "text/plain": [
       "{12, 24, 35, 88, 120, 155}"
      ]
     },
     "execution_count": 177,
     "metadata": {},
     "output_type": "execute_result"
    }
   ],
   "source": [
    "set([12,24,35,24,88,120,155,88,120,155])"
   ]
  },
  {
   "cell_type": "code",
   "execution_count": 185,
   "metadata": {},
   "outputs": [
    {
     "name": "stdout",
     "output_type": "stream",
     "text": [
      "I am pa riwnadnods\n"
     ]
    },
    {
     "data": {
      "text/plain": [
       "'sdondanwir ap ma I'"
      ]
     },
     "execution_count": 185,
     "metadata": {},
     "output_type": "execute_result"
    }
   ],
   "source": [
    "s=input()\n",
    "s=s[::-1]\n",
    "s"
   ]
  },
  {
   "cell_type": "code",
   "execution_count": 186,
   "metadata": {},
   "outputs": [
    {
     "name": "stdout",
     "output_type": "stream",
     "text": [
      "I am pramodh\n"
     ]
    },
    {
     "data": {
      "text/plain": [
       "'Ia rmd'"
      ]
     },
     "execution_count": 186,
     "metadata": {},
     "output_type": "execute_result"
    }
   ],
   "source": [
    "s=input()\n",
    "s=s[::2]\n",
    "s"
   ]
  },
  {
   "cell_type": "code",
   "execution_count": 187,
   "metadata": {},
   "outputs": [
    {
     "name": "stdout",
     "output_type": "stream",
     "text": [
      "[(1, 2, 3), (1, 3, 2), (2, 1, 3), (2, 3, 1), (3, 1, 2), (3, 2, 1)]\n"
     ]
    }
   ],
   "source": [
    "import itertools\n",
    "print(list(itertools.permutations([1,2,3])))"
   ]
  },
  {
   "cell_type": "code",
   "execution_count": 188,
   "metadata": {},
   "outputs": [
    {
     "name": "stdout",
     "output_type": "stream",
     "text": [
      "(23, 12)\n"
     ]
    }
   ],
   "source": [
    "def solve(numheads,numlegs):\n",
    "    ns='No solutions!'\n",
    "    for i in range(numheads+1):\n",
    "        j=numheads-i\n",
    "        if 2*i+4*j==numlegs:\n",
    "            return i,j\n",
    "    return ns,ns\n",
    "\n",
    "numheads=35\n",
    "numlegs=94\n",
    "solutions=solve(numheads,numlegs)\n",
    "print(solutions)"
   ]
  },
  {
   "cell_type": "code",
   "execution_count": 191,
   "metadata": {},
   "outputs": [
    {
     "name": "stdout",
     "output_type": "stream",
     "text": [
      "['Alice', 'Bear', 'Charlton', 'Daman']\n",
      "['Alice', 'Bear', 'Charlton', 'Daman']\n",
      "['Amir', 'Bob', 'Charlton', 'Daman']\n"
     ]
    }
   ],
   "source": [
    "names1 = ['Amir', 'Bear', 'Charlton', 'Daman']\n",
    "names2 = names1\n",
    "names3 = names1[:]\n",
    "\n",
    "names2[0] = 'Alice'\n",
    "names3[1] = 'Bob'\n",
    "print(names1)\n",
    "print(names2)\n",
    "print(names3)\n"
   ]
  },
  {
   "cell_type": "code",
   "execution_count": 194,
   "metadata": {},
   "outputs": [
    {
     "data": {
      "text/plain": [
       "19"
      ]
     },
     "execution_count": 194,
     "metadata": {},
     "output_type": "execute_result"
    }
   ],
   "source": [
    "len(list(\"hellow i am pramodh\"))"
   ]
  },
  {
   "cell_type": "code",
   "execution_count": 203,
   "metadata": {},
   "outputs": [
    {
     "data": {
      "text/plain": [
       "'raeB'"
      ]
     },
     "execution_count": 203,
     "metadata": {},
     "output_type": "execute_result"
    }
   ],
   "source": [
    "['Amir', 'Bear', 'Charlton', 'Daman'][1][::-1]"
   ]
  },
  {
   "cell_type": "code",
   "execution_count": null,
   "metadata": {},
   "outputs": [],
   "source": []
  }
 ],
 "metadata": {
  "kernelspec": {
   "display_name": "Python 3",
   "language": "python",
   "name": "python3"
  },
  "language_info": {
   "codemirror_mode": {
    "name": "ipython",
    "version": 3
   },
   "file_extension": ".py",
   "mimetype": "text/x-python",
   "name": "python",
   "nbconvert_exporter": "python",
   "pygments_lexer": "ipython3",
   "version": "3.7.6"
  }
 },
 "nbformat": 4,
 "nbformat_minor": 4
}
